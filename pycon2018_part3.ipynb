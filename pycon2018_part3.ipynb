{
 "cells": [
  {
   "cell_type": "markdown",
   "metadata": {},
   "source": [
    "# word embedding"
   ]
  },
  {
   "cell_type": "code",
   "execution_count": 1,
   "metadata": {},
   "outputs": [],
   "source": [
    "%run load_model.py"
   ]
  },
  {
   "cell_type": "code",
   "execution_count": 2,
   "metadata": {},
   "outputs": [
    {
     "data": {
      "text/plain": [
       "array([[ 0.02340334,  0.03138399, -0.01313771, ...,  0.15787998,\n",
       "        -0.12005464,  0.01616174],\n",
       "       [ 0.00340963, -0.10578749, -0.0838974 , ..., -0.86481726,\n",
       "         0.11777297, -0.08962306],\n",
       "       [-0.07096495,  0.04687084,  0.13116598, ..., -0.03555953,\n",
       "         0.29868907, -0.02230581],\n",
       "       ..., \n",
       "       [-0.03250659, -0.24388647, -0.17274387, ..., -0.61243141,\n",
       "         1.30766678, -0.21917012],\n",
       "       [-0.27228695,  0.38219345,  0.16930479, ..., -0.50801826,\n",
       "         0.99703968, -0.50872284],\n",
       "       [-0.16002753, -0.38437346, -0.2008599 , ..., -0.29028127,\n",
       "         0.73064053,  0.06254633]], dtype=float32)"
      ]
     },
     "execution_count": 2,
     "metadata": {},
     "output_type": "execute_result"
    }
   ],
   "source": [
    "model.encoder.weight.data.numpy()"
   ]
  },
  {
   "cell_type": "code",
   "execution_count": 3,
   "metadata": {},
   "outputs": [],
   "source": [
    "import numpy as np\n",
    "from sklearn.manifold import TSNE\n",
    "import matplotlib\n",
    "import matplotlib.pyplot as plt\n",
    "from bidi.algorithm import get_display\n",
    "import arabic_reshaper\n",
    "\n",
    "\n",
    "# CONSTANTS\n",
    "embedding_matrix = model.encoder.weight.data.numpy()\n",
    "words_list_file = os.path.join('embedding', 'word_dict_co100.txt')\n",
    "word_offset = 3\n",
    "nbr_words = 1000\n",
    "\n",
    "# load resources\n",
    "embd_mat = embedding_matrix[word_offset:nbr_words]\n",
    "with open(words_list_file) as f:\n",
    "    words = f.read().strip().split('\\n')[word_offset:nbr_words]\n",
    "\n",
    "# TSNE\n",
    "t = TSNE(n_components=2).fit_transform(embd_mat)\n",
    "\n",
    "# write words on canvas\n",
    "plt.plot(*(t.transpose()), '.', markersize=0)\n",
    "matplotlib.rc('font', family='DejaVu Sans', size=1)\n",
    "for point, word in zip(t, words):\n",
    "    plt.text(*point, arabic_reshaper.reshape(word)[::-1])\n",
    "plt.axis('off')\n",
    "plt.autoscale(tight=True)\n",
    "plt.savefig('words.svg', format='svg', bbox_inches='tight', dpi=2000)"
   ]
  },
  {
   "cell_type": "code",
   "execution_count": null,
   "metadata": {},
   "outputs": [],
   "source": []
  }
 ],
 "metadata": {
  "kernelspec": {
   "display_name": "Python 3",
   "language": "python",
   "name": "python3"
  },
  "language_info": {
   "codemirror_mode": {
    "name": "ipython",
    "version": 3
   },
   "file_extension": ".py",
   "mimetype": "text/x-python",
   "name": "python",
   "nbconvert_exporter": "python",
   "pygments_lexer": "ipython3",
   "version": "3.5.2"
  }
 },
 "nbformat": 4,
 "nbformat_minor": 2
}
