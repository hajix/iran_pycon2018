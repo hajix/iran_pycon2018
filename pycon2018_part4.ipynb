{
 "cells": [
  {
   "cell_type": "markdown",
   "metadata": {},
   "source": [
    "# generation"
   ]
  },
  {
   "cell_type": "code",
   "execution_count": 1,
   "metadata": {},
   "outputs": [],
   "source": [
    "%run load_model.py"
   ]
  },
  {
   "cell_type": "code",
   "execution_count": 2,
   "metadata": {},
   "outputs": [],
   "source": [
    "import os\n",
    "import torch.nn.functional as F\n",
    "from torch.autograd import Variable\n",
    "\n",
    "# load word list\n",
    "with open(os.path.join('embedding', 'word_dict_co100.txt')) as f:\n",
    "    known_words = f.read().strip().split()\n",
    "    vocab_size = len(known_words)\n",
    "word_to_index = lambda word: known_words.index(word) if word in known_words else known_words.index('<ukn>')\n",
    "index_to_word = lambda ind: known_words[ind]"
   ]
  },
  {
   "cell_type": "code",
   "execution_count": 3,
   "metadata": {},
   "outputs": [],
   "source": [
    "N = 5\n",
    "sent_list = ['<s>'] + ['تیم', 'رئال']\n",
    "\n",
    "sentences = []\n",
    "for i in range(100):\n",
    "    counter = len(sent_list)\n",
    "    seq_ind = [word_to_index(i) for i in sent_list]\n",
    "    word_ind = 0\n",
    "    while counter < 100 and word_ind != word_to_index('</s>'):\n",
    "        v = Variable(torch.LongTensor(seq_ind).view(counter, 1))\n",
    "        result = model.forward(v)\n",
    "        top_N_score, top_N_ind = torch.topk(result[-1], N)\n",
    "        top_N_ind = top_N_ind.squeeze_().cpu().data.numpy()\n",
    "        top_N_prob = F.softmax(top_N_score, dim=1).squeeze_().cpu().data.numpy()\n",
    "        word_ind = np.random.choice(top_N_ind, p=top_N_prob)\n",
    "        seq_ind.append(int(word_ind))\n",
    "        counter += 1\n",
    "    sentences.append(seq_ind[1:-1])\n",
    "\n",
    "with open('generated.txt', 'w+') as f:\n",
    "    f.write('\\n'.join([' '.join(map(lambda x: index_to_word(x), seq)) for seq in sentences]))"
   ]
  },
  {
   "cell_type": "code",
   "execution_count": null,
   "metadata": {},
   "outputs": [],
   "source": []
  }
 ],
 "metadata": {
  "kernelspec": {
   "display_name": "Python 3",
   "language": "python",
   "name": "python3"
  },
  "language_info": {
   "codemirror_mode": {
    "name": "ipython",
    "version": 3
   },
   "file_extension": ".py",
   "mimetype": "text/x-python",
   "name": "python",
   "nbconvert_exporter": "python",
   "pygments_lexer": "ipython3",
   "version": "3.5.2"
  }
 },
 "nbformat": 4,
 "nbformat_minor": 2
}
